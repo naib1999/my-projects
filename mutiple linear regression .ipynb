{
 "cells": [
  {
   "cell_type": "code",
   "execution_count": 12,
   "id": "c863c44d",
   "metadata": {},
   "outputs": [
    {
     "data": {
      "text/html": [
       "<div>\n",
       "<style scoped>\n",
       "    .dataframe tbody tr th:only-of-type {\n",
       "        vertical-align: middle;\n",
       "    }\n",
       "\n",
       "    .dataframe tbody tr th {\n",
       "        vertical-align: top;\n",
       "    }\n",
       "\n",
       "    .dataframe thead th {\n",
       "        text-align: right;\n",
       "    }\n",
       "</style>\n",
       "<table border=\"1\" class=\"dataframe\">\n",
       "  <thead>\n",
       "    <tr style=\"text-align: right;\">\n",
       "      <th></th>\n",
       "      <th>TV</th>\n",
       "      <th>Radio</th>\n",
       "      <th>Newspaper</th>\n",
       "      <th>Sales</th>\n",
       "    </tr>\n",
       "  </thead>\n",
       "  <tbody>\n",
       "    <tr>\n",
       "      <th>0</th>\n",
       "      <td>230.1</td>\n",
       "      <td>37.8</td>\n",
       "      <td>69.2</td>\n",
       "      <td>22.1</td>\n",
       "    </tr>\n",
       "    <tr>\n",
       "      <th>1</th>\n",
       "      <td>44.5</td>\n",
       "      <td>39.3</td>\n",
       "      <td>45.1</td>\n",
       "      <td>10.4</td>\n",
       "    </tr>\n",
       "    <tr>\n",
       "      <th>2</th>\n",
       "      <td>17.2</td>\n",
       "      <td>45.9</td>\n",
       "      <td>69.3</td>\n",
       "      <td>9.3</td>\n",
       "    </tr>\n",
       "    <tr>\n",
       "      <th>3</th>\n",
       "      <td>151.5</td>\n",
       "      <td>41.3</td>\n",
       "      <td>58.5</td>\n",
       "      <td>18.5</td>\n",
       "    </tr>\n",
       "    <tr>\n",
       "      <th>4</th>\n",
       "      <td>180.8</td>\n",
       "      <td>10.8</td>\n",
       "      <td>58.4</td>\n",
       "      <td>12.9</td>\n",
       "    </tr>\n",
       "  </tbody>\n",
       "</table>\n",
       "</div>"
      ],
      "text/plain": [
       "      TV  Radio  Newspaper  Sales\n",
       "0  230.1   37.8       69.2   22.1\n",
       "1   44.5   39.3       45.1   10.4\n",
       "2   17.2   45.9       69.3    9.3\n",
       "3  151.5   41.3       58.5   18.5\n",
       "4  180.8   10.8       58.4   12.9"
      ]
     },
     "execution_count": 12,
     "metadata": {},
     "output_type": "execute_result"
    }
   ],
   "source": [
    "import pandas as pd\n",
    "import numpy as np\n",
    "df=pd.read_csv(r\"C:\\Users\\NAIB\\Downloads\\archive (13)\\Advertising.csv\",index_col=False)\n",
    "d=df.drop('Unnamed: 0',axis=1)\n",
    "d.head(5)"
   ]
  },
  {
   "cell_type": "code",
   "execution_count": 13,
   "id": "c6ed2fac",
   "metadata": {},
   "outputs": [],
   "source": [
    "x=d[['TV','Radio','Newspaper']]\n",
    "y=d['Sales']"
   ]
  },
  {
   "cell_type": "code",
   "execution_count": 16,
   "id": "fe4aed68",
   "metadata": {},
   "outputs": [],
   "source": [
    "from sklearn.model_selection import train_test_split\n",
    "x_train,x_test,y_train,y_test=train_test_split(x,y,test_size=0.3,random_state=0)"
   ]
  },
  {
   "cell_type": "code",
   "execution_count": 19,
   "id": "78c9cf42",
   "metadata": {},
   "outputs": [
    {
     "data": {
      "text/plain": [
       "LinearRegression()"
      ]
     },
     "execution_count": 19,
     "metadata": {},
     "output_type": "execute_result"
    }
   ],
   "source": [
    "from sklearn.linear_model import LinearRegression\n",
    "reg=LinearRegression()\n",
    "reg.fit(x_train,y_train)"
   ]
  },
  {
   "cell_type": "code",
   "execution_count": 21,
   "id": "0a56e9bc",
   "metadata": {},
   "outputs": [
    {
     "name": "stdout",
     "output_type": "stream",
     "text": [
      "2.880255286331325\n",
      "[0.04391531 0.20027962 0.00184368]\n"
     ]
    }
   ],
   "source": [
    "print(reg.intercept_)\n",
    "print(reg.coef_)"
   ]
  },
  {
   "cell_type": "code",
   "execution_count": 22,
   "id": "0ff8cca5",
   "metadata": {},
   "outputs": [
    {
     "data": {
      "text/plain": [
       "array([10.05866652,  7.43318827,  6.95305695, 24.16874598, 11.98172029,\n",
       "        6.54464708, 13.19426793, 14.90240334, 11.07675294, 16.25061663,\n",
       "       23.0081158 ,  9.12072148, 10.29342297, 15.3709661 , 11.62396513,\n",
       "       12.1057432 , 18.55030805, 10.85810888, 16.13879856, 17.20281404,\n",
       "       24.25469939,  9.43869821, 15.13419408, 12.41283844,  5.66973859,\n",
       "       15.23876681, 12.1878762 , 20.95164149, 13.22671807,  9.20954724,\n",
       "       13.39812727, 21.61944517, 18.05938674, 21.14798547,  6.73582996,\n",
       "        6.16799717,  7.98042607, 13.09083488, 14.86214078,  6.23597127,\n",
       "       12.35246911,  9.19452235, 15.04717679, 16.23039254, 17.17240889,\n",
       "       13.3341216 ,  3.68035786, 12.53946851, 15.93674769,  8.67881357,\n",
       "       10.62459997, 19.5646526 , 18.3472282 , 15.24662975, 10.04846378,\n",
       "        8.17344188, 21.49061088, 14.137309  , 16.29760212,  8.90502274])"
      ]
     },
     "execution_count": 22,
     "metadata": {},
     "output_type": "execute_result"
    }
   ],
   "source": [
    "y_p=reg.predict(x_test)\n",
    "y_p"
   ]
  },
  {
   "cell_type": "code",
   "execution_count": 24,
   "id": "14158ae1",
   "metadata": {},
   "outputs": [
    {
     "data": {
      "text/html": [
       "<div>\n",
       "<style scoped>\n",
       "    .dataframe tbody tr th:only-of-type {\n",
       "        vertical-align: middle;\n",
       "    }\n",
       "\n",
       "    .dataframe tbody tr th {\n",
       "        vertical-align: top;\n",
       "    }\n",
       "\n",
       "    .dataframe thead th {\n",
       "        text-align: right;\n",
       "    }\n",
       "</style>\n",
       "<table border=\"1\" class=\"dataframe\">\n",
       "  <thead>\n",
       "    <tr style=\"text-align: right;\">\n",
       "      <th></th>\n",
       "      <th>predected</th>\n",
       "      <th>actual</th>\n",
       "    </tr>\n",
       "  </thead>\n",
       "  <tbody>\n",
       "    <tr>\n",
       "      <th>18</th>\n",
       "      <td>10.058667</td>\n",
       "      <td>11.3</td>\n",
       "    </tr>\n",
       "    <tr>\n",
       "      <th>170</th>\n",
       "      <td>7.433188</td>\n",
       "      <td>8.4</td>\n",
       "    </tr>\n",
       "    <tr>\n",
       "      <th>107</th>\n",
       "      <td>6.953057</td>\n",
       "      <td>8.7</td>\n",
       "    </tr>\n",
       "    <tr>\n",
       "      <th>98</th>\n",
       "      <td>24.168746</td>\n",
       "      <td>25.4</td>\n",
       "    </tr>\n",
       "    <tr>\n",
       "      <th>177</th>\n",
       "      <td>11.981720</td>\n",
       "      <td>11.7</td>\n",
       "    </tr>\n",
       "  </tbody>\n",
       "</table>\n",
       "</div>"
      ],
      "text/plain": [
       "     predected  actual\n",
       "18   10.058667    11.3\n",
       "170   7.433188     8.4\n",
       "107   6.953057     8.7\n",
       "98   24.168746    25.4\n",
       "177  11.981720    11.7"
      ]
     },
     "execution_count": 24,
     "metadata": {},
     "output_type": "execute_result"
    }
   ],
   "source": [
    "new_df=pd.DataFrame({'predected':y_p,'actual':y_test})\n",
    "new_df.head(5)"
   ]
  },
  {
   "cell_type": "code",
   "execution_count": 33,
   "id": "ef9181b4",
   "metadata": {},
   "outputs": [
    {
     "name": "stdout",
     "output_type": "stream",
     "text": [
      "0.8649018906637793 1.2333759522850203 3.691394845698606\n"
     ]
    }
   ],
   "source": [
    "from sklearn.metrics import r2_score,mean_absolute_error,mean_squared_error\n",
    "rscore=r2_score(y_test,y_p)\n",
    "mae=mean_absolute_error(y_test,y_p)\n",
    "mse=mean_squared_error(y_test,y_p)\n",
    "print(rscore,mae,mse)"
   ]
  },
  {
   "cell_type": "code",
   "execution_count": null,
   "id": "2163d295",
   "metadata": {},
   "outputs": [],
   "source": []
  }
 ],
 "metadata": {
  "kernelspec": {
   "display_name": "Python 3 (ipykernel)",
   "language": "python",
   "name": "python3"
  },
  "language_info": {
   "codemirror_mode": {
    "name": "ipython",
    "version": 3
   },
   "file_extension": ".py",
   "mimetype": "text/x-python",
   "name": "python",
   "nbconvert_exporter": "python",
   "pygments_lexer": "ipython3",
   "version": "3.9.7"
  }
 },
 "nbformat": 4,
 "nbformat_minor": 5
}
